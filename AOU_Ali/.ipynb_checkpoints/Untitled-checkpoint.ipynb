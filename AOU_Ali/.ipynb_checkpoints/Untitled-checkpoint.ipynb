{
 "cells": [
  {
   "cell_type": "code",
   "execution_count": 1,
   "metadata": {},
   "outputs": [],
   "source": [
    "from flask import Flask, render_template, request\n",
    "import os\n",
    "app = Flask(__name__)\n",
    "fig_folder=os.path.join('static','figs')\n",
    "app.config['UPLOAD_FOLDER'] = fig_folder"
   ]
  },
  {
   "cell_type": "code",
   "execution_count": 2,
   "metadata": {},
   "outputs": [],
   "source": [
    "analysis_type=[\"Distripution of students numbers in every study field\", \"Number of bus students relative to years\",\n",
    "\"Number of english students relative to years- All\",\"Number of IT students relative to years- All\",\"Number of media students relative to years- All\",\n",
    "\"Number of graphic students relative to years- All\",\"Number of students for all study fields relative to years -Genderdized\",\n",
    "\"Number of bus students relative to secondary school\",\"Number of english students relative to secondary school\",\n",
    "\"Number of IT students relative to secondary school\",\"Number of media students relative to secondary school\",\n",
    "\"Number of graphic students relative to secondary school\",\"Number of bus students relative to both year & secondary school\",\n",
    "\"Number of english students relative to both year & secondary school\",\"Number of IT students relative to both year & secondary school\",\n",
    "\"Number of media students relative to both year & secondary school\",\"Number of graphic students relative to both year & secondary school\"\n",
    "]"
   ]
  },
  {
   "cell_type": "code",
   "execution_count": null,
   "metadata": {},
   "outputs": [
    {
     "name": "stdout",
     "output_type": "stream",
     "text": [
      " * Serving Flask app \"__main__\" (lazy loading)\n",
      " * Environment: production\n",
      "   WARNING: This is a development server. Do not use it in a production deployment.\n",
      "   Use a production WSGI server instead.\n",
      " * Debug mode: off\n"
     ]
    },
    {
     "name": "stderr",
     "output_type": "stream",
     "text": [
      " * Running on http://127.0.0.1:5000/ (Press CTRL+C to quit)\n",
      "127.0.0.1 - - [16/May/2021 04:26:52] \"GET / HTTP/1.1\" 200 -\n",
      "127.0.0.1 - - [16/May/2021 04:26:56] \"GET /results?analysis_wanted= HTTP/1.1\" 400 -\n"
     ]
    }
   ],
   "source": [
    "@app.route(\"/\")\n",
    "def home():\n",
    "    return render_template ('index.html')\n",
    "\n",
    "@app.route(\"/results\", methods=[\"GET\",\"POST\"])\n",
    "def results():\n",
    "    global analysis_type\n",
    "    analyse= '%s' %(request.form['analysis_wanted'])\n",
    "    fig='figure1.png'\n",
    "    if analyse == analysis_type[0]:\n",
    "        result=print('The file is fig1')\n",
    "    else:\n",
    "        result= print(analyse)\n",
    "    figure = os.path.join(app.config['UPLOAD_FOLDER'], fig)\n",
    "    return render_template(\"index.html\", user_image = figure, result=result)\n",
    "\n",
    "if __name__ == \"__main__\":\n",
    "    app.run()"
   ]
  },
  {
   "cell_type": "code",
   "execution_count": null,
   "metadata": {},
   "outputs": [],
   "source": []
  }
 ],
 "metadata": {
  "kernelspec": {
   "display_name": "Python 3",
   "language": "python",
   "name": "python3"
  },
  "language_info": {
   "codemirror_mode": {
    "name": "ipython",
    "version": 3
   },
   "file_extension": ".py",
   "mimetype": "text/x-python",
   "name": "python",
   "nbconvert_exporter": "python",
   "pygments_lexer": "ipython3",
   "version": "3.7.4"
  }
 },
 "nbformat": 4,
 "nbformat_minor": 2
}
